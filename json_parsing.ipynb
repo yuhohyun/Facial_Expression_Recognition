{
 "cells": [
  {
   "cell_type": "code",
   "execution_count": 46,
   "metadata": {},
   "outputs": [],
   "source": [
    "import json\n",
    "from PIL import Image\n",
    "import csv\n",
    "import glob\n",
    "import os"
   ]
  },
  {
   "cell_type": "code",
   "execution_count": 47,
   "metadata": {},
   "outputs": [],
   "source": [
    "# 저장할 디렉토리 설정\n",
    "save_directory = './dataset/train'\n",
    "\n",
    "# 저장 디렉토리가 없으면 생성\n",
    "if not os.path.exists(save_directory):\n",
    "    os.makedirs(save_directory)"
   ]
  },
  {
   "cell_type": "code",
   "execution_count": 48,
   "metadata": {},
   "outputs": [],
   "source": [
    "# 이미지 파일이 위치한 디렉토리\n",
    "image_directory = './dataset/EMOIMG_Happy_TRAIN_01/'"
   ]
  },
  {
   "cell_type": "code",
   "execution_count": 49,
   "metadata": {},
   "outputs": [
    {
     "name": "stdout",
     "output_type": "stream",
     "text": [
      "Total saved images: 2290\n"
     ]
    }
   ],
   "source": [
    "# CSV 파일을 위한 헤더\n",
    "csv_headers = ['filename', 'label']\n",
    "\n",
    "# 저장된 이미지의 개수를 추적하는 변수\n",
    "saved_images_count = 0\n",
    "\n",
    "# CSV 파일 생성\n",
    "with open('train_happy.csv', 'w', newline='', encoding='utf-8') as csvfile:\n",
    "    writer = csv.writer(csvfile)\n",
    "    writer.writerow(csv_headers)\n",
    "    \n",
    "    # json_files 폴더 내의 모든 .json 파일에 대해 반복\n",
    "    for json_file_path in glob.glob('./dataset/label/happy/*.json'):\n",
    "        # JSON 파일을 읽고 Python dictionary로 변환\n",
    "        with open(json_file_path, 'r', encoding='utf-8') as file:\n",
    "            json_data = json.load(file)\n",
    "        \n",
    "        for item in json_data:\n",
    "            # 원본 이미지 파일 이름\n",
    "            original_filename = item['filename']\n",
    "            # '\\\\' 앞부분까지의 이름 추출\n",
    "            base_pattern = original_filename.split('\\\\')[0]\n",
    "            \n",
    "            # 해당 패턴을 포함하는 모든 파일 찾기 (하위 디렉토리 포함)\n",
    "            matching_files = glob.glob(f\"{image_directory}**/{base_pattern}*\", recursive=True)\n",
    "            \n",
    "            if matching_files:\n",
    "                # 일치하는 파일이 있다면, 첫 번째 파일 사용\n",
    "                image_path = matching_files[0]\n",
    "            else:\n",
    "                # 일치하는 파일이 없다면, 다음 항목으로 넘어감\n",
    "                print(f\"No matching file found for pattern {base_pattern}\")\n",
    "                continue\n",
    "            \n",
    "            # 얼굴 표정 라벨\n",
    "            label = item['annot_A']['faceExp']\n",
    "            \n",
    "            # 이미지 불러오기\n",
    "            try:\n",
    "                with Image.open(image_path) as img:\n",
    "                    # label과 annot_B의 표정, annot_C의 표정 일치할 때 이미지 crop 수행\n",
    "                    if label == item['annot_B']['faceExp'] and item['annot_C']['faceExp']:\n",
    "                        # Bounding box 좌표 추출\n",
    "                        boxes = item['annot_A']['boxes']\n",
    "                        minX, minY, maxX, maxY = boxes['minX'], boxes['minY'], boxes['maxX'], boxes['maxY']\n",
    "                    \n",
    "                        # 이미지 Crop\n",
    "                        cropped_img = img.crop((minX-50, minY-50, maxX+50, maxY+50))\n",
    "                    \n",
    "                        # Crop된 이미지 저장 경로 설정\n",
    "                        cropped_filepath = os.path.join(save_directory, os.path.basename(image_path))\n",
    "                    \n",
    "                        # Crop된 이미지 저장\n",
    "                        cropped_img.save(cropped_filepath)\n",
    "                    \n",
    "                        # CSV 파일에 파일명과 라벨 쓰기\n",
    "                        writer.writerow([cropped_filepath, label])\n",
    "                    \n",
    "                        # 이미지가 성공적으로 저장되면 카운터 증가\n",
    "                        saved_images_count += 1\n",
    "                    \n",
    "            except IOError:\n",
    "                print(f\"Error opening or processing image {image_path}\")\n",
    "\n",
    "# 저장된 이미지의 총 개수 출력\n",
    "print(f\"Total saved images: {saved_images_count}\")"
   ]
  },
  {
   "cell_type": "code",
   "execution_count": 50,
   "metadata": {},
   "outputs": [],
   "source": [
    "import cv2\n",
    "import tempfile\n",
    "import shutil\n",
    "import numpy as np"
   ]
  },
  {
   "cell_type": "code",
   "execution_count": 52,
   "metadata": {},
   "outputs": [],
   "source": [
    "def clean_csv_file(original_csv_path):\n",
    "    # 임시 파일 생성\n",
    "    temp_file = tempfile.NamedTemporaryFile(mode='w', delete=False, newline='', encoding='utf-8')\n",
    "    with open(original_csv_path, 'r', encoding='utf-8', newline='') as csvfile, temp_file:\n",
    "        reader = csv.reader(csvfile)\n",
    "        writer = csv.writer(temp_file)\n",
    "\n",
    "        # 첫 번째 행(헤더)을 읽고, 임시 파일에도 쓴다\n",
    "        headers = next(reader)\n",
    "        writer.writerow(headers)\n",
    "\n",
    "        # 각 행에 대해 파일 경로를 확인하고, 파일이 존재하면 임시 파일에 쓴다\n",
    "        for row in reader:\n",
    "            file_path = row[0]\n",
    "            # 윈도우 환경에서 경로 문제를 해결하기 위해 '\\\\'를 os.sep로 변경\n",
    "            file_path = file_path.replace('\\\\', os.sep)\n",
    "            if os.path.exists(file_path):\n",
    "                writer.writerow(row)\n",
    "    \n",
    "    # 원본 파일을 새로운 내용으로 교체\n",
    "    shutil.move(temp_file.name, original_csv_path)\n",
    "\n",
    "# 원본 CSV 파일 경로\n",
    "original_csv_path = './dataset/label/.csv'\n",
    "\n",
    "# 함수 실행\n",
    "clean_csv_file(original_csv_path)"
   ]
  },
  {
   "cell_type": "code",
   "execution_count": 53,
   "metadata": {},
   "outputs": [],
   "source": [
    "import pandas as pd\n",
    "import matplotlib.pyplot as plt"
   ]
  },
  {
   "cell_type": "code",
   "execution_count": 56,
   "metadata": {},
   "outputs": [],
   "source": [
    "# CSV 파일 읽기\n",
    "df = pd.read_csv('labels_updated.csv')\n",
    "\n",
    "# 라벨 재정의 함수\n",
    "def redefine_label(label):\n",
    "    if label == '기쁨':\n",
    "        return 'positive'\n",
    "    elif label in ['당황', '분노', '불안', '상처', '슬픔']:\n",
    "        return 'negative'\n",
    "    elif label == '중립':\n",
    "        return 'neutral'\n",
    "    else:\n",
    "        return label\n",
    "\n",
    "# 라벨 재정의 적용\n",
    "df['label'] = df['label'].apply(redefine_label)\n",
    "\n",
    "# 재정의된 라벨로 업데이트된 데이터를 새로운 CSV 파일에 저장\n",
    "df.to_csv('labels_updated.csv', index=False)"
   ]
  },
  {
   "cell_type": "code",
   "execution_count": 57,
   "metadata": {},
   "outputs": [
    {
     "data": {
      "image/png": "[encoded data removed]",
      "text/plain": [
       "<Figure size 800x800 with 1 Axes>"
      ]
     },
     "metadata": {},
     "output_type": "display_data"
    }
   ],
   "source": [
    "# 각 라벨별 비율 계산\n",
    "label_counts = df['label'].value_counts()\n",
    "label_ratios = label_counts / label_counts.sum()\n",
    "\n",
    "# 원형 그래프 시각화\n",
    "plt.figure(figsize=(8, 8))\n",
    "plt.pie(label_ratios, labels=label_ratios.index, autopct='%1.1f%%', startangle=140)\n",
    "plt.title('Label Distribution')\n",
    "plt.show()"
   ]
  },
  {
   "cell_type": "code",
   "execution_count": null,
   "metadata": {},
   "outputs": [],
   "source": []
  }
 ],
 "metadata": {
  "kernelspec": {
   "display_name": "FER",
   "language": "python",
   "name": "python3"
  },
  "language_info": {
   "codemirror_mode": {
    "name": "ipython",
    "version": 3
   },
   "file_extension": ".py",
   "mimetype": "text/x-python",
   "name": "python",
   "nbconvert_exporter": "python",
   "pygments_lexer": "ipython3",
   "version": "3.9.19"
  }
 },
 "nbformat": 4,
 "nbformat_minor": 2
}
