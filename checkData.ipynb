{
 "cells": [
  {
   "cell_type": "code",
   "execution_count": 1,
   "id": "79d61b7d",
   "metadata": {},
   "outputs": [],
   "source": [
    "import pandas as pd"
   ]
  },
  {
   "cell_type": "code",
   "execution_count": 2,
   "id": "7d2b2efa",
   "metadata": {},
   "outputs": [],
   "source": [
    "# CSV 파일 읽기\n",
    "df_train = pd.read_csv('train.csv')\n",
    "df_val = pd.read_csv('validation.csv')"
   ]
  },
  {
   "cell_type": "code",
   "execution_count": 3,
   "id": "f861b557",
   "metadata": {},
   "outputs": [
    {
     "name": "stdout",
     "output_type": "stream",
     "text": [
      "                                                filename     label\n",
      "0      ./dataset/train/6e941deb878a4582d63d66e8013e26...   neutral\n",
      "1      ./dataset/train/6e00acee12b8f9d23a161f2f4eadc6...   neutral\n",
      "2      ./dataset/train/08a32c1632b7dff63981271350669d...   neutral\n",
      "3      ./dataset/train/4ec09a0fcf2c495672d0e83de8bca0...   neutral\n",
      "4      ./dataset/train/7f40c7885db6b3b6a78ef51445f333...   neutral\n",
      "...                                                  ...       ...\n",
      "78005  ./dataset/train/4c336a96ff37375f77cf1ba4a3f791...  positive\n",
      "78006  ./dataset/train/7d3f7e63f356ff1c4508727c51d4a9...  positive\n",
      "78007  ./dataset/train/7ec8720b0d7f0ae50f16dae3248248...  positive\n",
      "78008  ./dataset/train/6a44de2e514d08e712dffc46e81332...  positive\n",
      "78009  ./dataset/train/01a6c69e76d729863380b8391d780e...  positive\n",
      "\n",
      "[78010 rows x 2 columns]\n",
      "                                                filename     label\n",
      "0      ./dataset/valid/60f9f06dcbf85639b594a076906a68...  negative\n",
      "1      ./dataset/valid/93be3d09b7faa6b1ca4c6223cf9f3d...  negative\n",
      "2      ./dataset/valid/8b8f577b0f7a8fbfc56520b243dcc0...  negative\n",
      "3      ./dataset/valid/1c7e1984293bbd04a69969ec280517...  negative\n",
      "4      ./dataset/valid/8257ac63ecc8c4c934b916caa87851...  negative\n",
      "...                                                  ...       ...\n",
      "22629  ./dataset/valid/08c0d9389dbc222023035a3ef6ad78...  positive\n",
      "22630  ./dataset/valid/4d84966e2a65956be35d0b014c9b12...  positive\n",
      "22631  ./dataset/valid/088fed93316d43566be2fd844159ea...  positive\n",
      "22632  ./dataset/valid/571166790d1289bf8bb894566c3ac9...  positive\n",
      "22633  ./dataset/valid/d7c3d3207615088285162f2c4b7ccd...  positive\n",
      "\n",
      "[22634 rows x 2 columns]\n"
     ]
    }
   ],
   "source": [
    "print(df_train)\n",
    "print(df_val)"
   ]
  },
  {
   "cell_type": "code",
   "execution_count": 4,
   "id": "02a63165",
   "metadata": {},
   "outputs": [
    {
     "name": "stdout",
     "output_type": "stream",
     "text": [
      "label\n",
      "positive    30500\n",
      "neutral     28146\n",
      "negative    19364\n",
      "Name: count, dtype: int64\n",
      "label\n",
      "negative    8751\n",
      "positive    7218\n",
      "neutral     6665\n",
      "Name: count, dtype: int64\n"
     ]
    }
   ],
   "source": [
    "# 'label' 열에 대한 빈도수 계산\n",
    "train_label_counts = df_train['label'].value_counts()\n",
    "val_label_counts = df_val['label'].value_counts()\n",
    "\n",
    "# 결과 출력\n",
    "print(train_label_counts)\n",
    "print(val_label_counts)"
   ]
  },
  {
   "cell_type": "code",
   "execution_count": 6,
   "id": "e5f54073",
   "metadata": {},
   "outputs": [
    {
     "name": "stdout",
     "output_type": "stream",
     "text": [
      "label\n",
      "neutral     19364\n",
      "negative    19364\n",
      "positive    19364\n",
      "Name: count, dtype: int64\n",
      "label\n",
      "positive    6665\n",
      "negative    6665\n",
      "neutral     6665\n",
      "Name: count, dtype: int64\n"
     ]
    }
   ],
   "source": [
    "# 훈련 데이터셋의 각 라벨별 최소 개수 찾기\n",
    "min_count_train = df_train['label'].value_counts().min()\n",
    "\n",
    "# 검증 데이터셋의 각 라벨별 최소 개수 찾기\n",
    "min_count_val = df_val['label'].value_counts().min()\n",
    "\n",
    "# 훈련 데이터셋에서 각 라벨별로 min_count_train만큼 샘플링\n",
    "balanced_df_train = df_train.groupby('label').apply(lambda x: x.sample(n=min_count_train)).reset_index(drop=True)\n",
    "\n",
    "# 검증 데이터셋에서 각 라벨별로 min_count_val만큼 샘플링\n",
    "balanced_df_val = df_val.groupby('label').apply(lambda x: x.sample(n=min_count_val)).reset_index(drop=True)\n",
    "\n",
    "# 랜덤 샘플링을 통해 데이터 섞기\n",
    "shuffled_df_train = balanced_df_train.sample(frac=1).reset_index(drop=True)\n",
    "shuffled_df_val = balanced_df_val.sample(frac=1).reset_index(drop=True)\n",
    "\n",
    "# 결과 확인\n",
    "print(shuffled_df_train['label'].value_counts())\n",
    "print(shuffled_df_val['label'].value_counts())"
   ]
  },
  {
   "cell_type": "code",
   "execution_count": 7,
   "id": "364ff9f4",
   "metadata": {},
   "outputs": [
    {
     "name": "stdout",
     "output_type": "stream",
     "text": [
      "                                                filename     label\n",
      "0      ./dataset/train/0bd9e528462923082a9a0e921ebd06...   neutral\n",
      "1      ./dataset/train/5f2ac0f161ab6f0b07a219002d00c2...   neutral\n",
      "2      ./dataset/train/6e00acee12b8f9d23a161f2f4eadc6...  negative\n",
      "3      ./dataset/train/2fdc04bd8d4247a193d14c445cc538...   neutral\n",
      "4      ./dataset/train/2af87d1494bfd574b71bfdc61829e8...   neutral\n",
      "...                                                  ...       ...\n",
      "58087  ./dataset/train/9adc3b019cb16fa53a2e2bd62aa8be...   neutral\n",
      "58088  ./dataset/train/4c336a96ff37375f77cf1ba4a3f791...  positive\n",
      "58089  ./dataset/train/8257ac63ecc8c4c934b916caa87851...   neutral\n",
      "58090  ./dataset/train/7d316d614dbd22b33df44768199cff...  positive\n",
      "58091  ./dataset/train/36f3d025faf2e87a1c5e83c4b5c369...   neutral\n",
      "\n",
      "[58092 rows x 2 columns]\n"
     ]
    }
   ],
   "source": [
    "print(shuffled_df_train)"
   ]
  },
  {
   "cell_type": "code",
   "execution_count": 8,
   "id": "08b31db4",
   "metadata": {},
   "outputs": [
    {
     "name": "stdout",
     "output_type": "stream",
     "text": [
      "                                                filename     label\n",
      "0      ./dataset/valid/405b5dabad146951e4531ac5cf23f4...  positive\n",
      "1      ./dataset/valid/be15b37a08c40f476239a2e605275d...  negative\n",
      "2      ./dataset/valid/b2b3bbcf9d2aa421e123f7eea143c4...   neutral\n",
      "3      ./dataset/valid/0a75349e37485aa2fb38eaa3171d61...  positive\n",
      "4      ./dataset/valid/0ebaf6bd7d220a448bf362409d38d6...   neutral\n",
      "...                                                  ...       ...\n",
      "19990  ./dataset/valid/2707c8a7c4e2fbb96d83645b4f7993...  positive\n",
      "19991  ./dataset/valid/98f8eccc6365a07f4274f9f564df92...  negative\n",
      "19992  ./dataset/valid/d3d3431ea4fe4da48b4ca28b84a84c...   neutral\n",
      "19993  ./dataset/valid/287815b22d5649f48cfdfb0e712dc7...  negative\n",
      "19994  ./dataset/valid/e771beffe33a2ae304744497b4c847...  positive\n",
      "\n",
      "[19995 rows x 2 columns]\n"
     ]
    }
   ],
   "source": [
    "print(shuffled_df_val)"
   ]
  },
  {
   "cell_type": "code",
   "execution_count": 9,
   "id": "346ed96c",
   "metadata": {},
   "outputs": [],
   "source": [
    "# shuffled_df_train 데이터프레임을 'balanced_train.csv' 파일로 저장\n",
    "shuffled_df_train.to_csv('balanced_train.csv', encoding='utf-8', index=False)\n",
    "\n",
    "# shuffled_df_val 데이터프레임을 'balanced_val.csv' 파일로 저장\n",
    "shuffled_df_val.to_csv('balanced_val.csv', encoding='utf-8', index=False)"
   ]
  },
  {
   "cell_type": "code",
   "execution_count": null,
   "id": "428ec32a",
   "metadata": {},
   "outputs": [],
   "source": []
  }
 ],
 "metadata": {
  "kernelspec": {
   "display_name": "Python 3 (ipykernel)",
   "language": "python",
   "name": "python3"
  },
  "language_info": {
   "codemirror_mode": {
    "name": "ipython",
    "version": 3
   },
   "file_extension": ".py",
   "mimetype": "text/x-python",
   "name": "python",
   "nbconvert_exporter": "python",
   "pygments_lexer": "ipython3",
   "version": "3.8.10"
  }
 },
 "nbformat": 4,
 "nbformat_minor": 5
}
