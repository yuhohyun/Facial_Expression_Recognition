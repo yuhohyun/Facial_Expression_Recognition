{
 "cells": [
  {
   "cell_type": "code",
   "execution_count": 8,
   "id": "03aa0043",
   "metadata": {},
   "outputs": [],
   "source": [
    "import pandas as pd\n",
    "import glob\n",
    "\n",
    "# CSV 파일들이 있는 폴더의 경로를 설정하세요.\n",
    "# 예: 'data/*.csv' 는 'data' 폴더 안에 있는 모든 csv 파일을 의미합니다.\n",
    "file_path = './old/val/*.csv'\n",
    "\n",
    "# glob를 사용하여 해당 폴더 내의 모든 csv 파일 목록을 가져옵니다.\n",
    "csv_files = glob.glob(file_path)\n",
    "\n",
    "# 빈 리스트를 생성하여 각 CSV 파일의 데이터프레임을 저장합니다.\n",
    "data_frames = []\n",
    "\n",
    "for filename in csv_files:\n",
    "    df = pd.read_csv(filename, index_col=None, header=0)\n",
    "    data_frames.append(df)\n",
    "\n",
    "# concat 함수를 사용하여 모든 데이터프레임을 하나로 합칩니다.\n",
    "df_concat = pd.concat(data_frames, axis=0, ignore_index=True)"
   ]
  },
  {
   "cell_type": "code",
   "execution_count": 9,
   "id": "151e19d2",
   "metadata": {},
   "outputs": [
    {
     "name": "stdout",
     "output_type": "stream",
     "text": [
      "                                                filename label\n",
      "0      ./dataset/valid/60f9f06dcbf85639b594a076906a68...    분노\n",
      "1      ./dataset/valid/93be3d09b7faa6b1ca4c6223cf9f3d...    분노\n",
      "2      ./dataset/valid/8b8f577b0f7a8fbfc56520b243dcc0...    분노\n",
      "3      ./dataset/valid/1c7e1984293bbd04a69969ec280517...    분노\n",
      "4      ./dataset/valid/8257ac63ecc8c4c934b916caa87851...    분노\n",
      "...                                                  ...   ...\n",
      "22629  ./dataset/valid/08c0d9389dbc222023035a3ef6ad78...    기쁨\n",
      "22630  ./dataset/valid/4d84966e2a65956be35d0b014c9b12...    기쁨\n",
      "22631  ./dataset/valid/088fed93316d43566be2fd844159ea...    기쁨\n",
      "22632  ./dataset/valid/571166790d1289bf8bb894566c3ac9...    기쁨\n",
      "22633  ./dataset/valid/d7c3d3207615088285162f2c4b7ccd...    기쁨\n",
      "\n",
      "[22634 rows x 2 columns]\n"
     ]
    }
   ],
   "source": [
    "print(df_concat)"
   ]
  },
  {
   "cell_type": "code",
   "execution_count": 10,
   "id": "b19e5a41",
   "metadata": {},
   "outputs": [],
   "source": [
    "# 라벨 재정의 함수\n",
    "def redefine_label(label):\n",
    "    if label == '기쁨':\n",
    "        return 'positive'\n",
    "    elif label in ['당황', '분노', '불안', '상처', '슬픔']:\n",
    "        return 'negative'\n",
    "    elif label == '중립':\n",
    "        return 'neutral'\n",
    "    else:\n",
    "        return label\n",
    "\n",
    "# 라벨 재정의 적용\n",
    "df_concat['label'] = df_concat['label'].apply(redefine_label)"
   ]
  },
  {
   "cell_type": "code",
   "execution_count": 11,
   "id": "ce12d5f7",
   "metadata": {},
   "outputs": [
    {
     "name": "stdout",
     "output_type": "stream",
     "text": [
      "                                                filename     label\n",
      "0      ./dataset/valid/60f9f06dcbf85639b594a076906a68...  negative\n",
      "1      ./dataset/valid/93be3d09b7faa6b1ca4c6223cf9f3d...  negative\n",
      "2      ./dataset/valid/8b8f577b0f7a8fbfc56520b243dcc0...  negative\n",
      "3      ./dataset/valid/1c7e1984293bbd04a69969ec280517...  negative\n",
      "4      ./dataset/valid/8257ac63ecc8c4c934b916caa87851...  negative\n",
      "...                                                  ...       ...\n",
      "22629  ./dataset/valid/08c0d9389dbc222023035a3ef6ad78...  positive\n",
      "22630  ./dataset/valid/4d84966e2a65956be35d0b014c9b12...  positive\n",
      "22631  ./dataset/valid/088fed93316d43566be2fd844159ea...  positive\n",
      "22632  ./dataset/valid/571166790d1289bf8bb894566c3ac9...  positive\n",
      "22633  ./dataset/valid/d7c3d3207615088285162f2c4b7ccd...  positive\n",
      "\n",
      "[22634 rows x 2 columns]\n"
     ]
    }
   ],
   "source": [
    "print(df_concat)"
   ]
  },
  {
   "cell_type": "code",
   "execution_count": 12,
   "id": "e3604317",
   "metadata": {},
   "outputs": [],
   "source": [
    "df_concat.to_csv(\"validation.csv\", index=False, encoding='utf-8-sig')"
   ]
  },
  {
   "cell_type": "code",
   "execution_count": null,
   "id": "04c4f836",
   "metadata": {},
   "outputs": [],
   "source": []
  }
 ],
 "metadata": {
  "kernelspec": {
   "display_name": "Python 3 (ipykernel)",
   "language": "python",
   "name": "python3"
  },
  "language_info": {
   "codemirror_mode": {
    "name": "ipython",
    "version": 3
   },
   "file_extension": ".py",
   "mimetype": "text/x-python",
   "name": "python",
   "nbconvert_exporter": "python",
   "pygments_lexer": "ipython3",
   "version": "3.8.10"
  }
 },
 "nbformat": 4,
 "nbformat_minor": 5
}
