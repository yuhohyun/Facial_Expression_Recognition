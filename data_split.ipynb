{
 "cells": [
  {
   "cell_type": "code",
   "execution_count": 2,
   "metadata": {},
   "outputs": [],
   "source": [
    "import re\n",
    "import os\n",
    "import shutil\n",
    "import pandas as pd\n",
    "from sklearn.model_selection import train_test_split"
   ]
  },
  {
   "cell_type": "code",
   "execution_count": 7,
   "metadata": {},
   "outputs": [],
   "source": [
    "# CSV 파일 로드\n",
    "df = pd.read_csv('labels_updated.csv')\n",
    "\n",
    "# 'filename' 열에서 파일 이름만 추출하여 업데이트\n",
    "df['filename'] = df['filename'].apply(lambda x: os.path.basename(x))"
   ]
  },
  {
   "cell_type": "code",
   "execution_count": 8,
   "metadata": {},
   "outputs": [
    {
     "name": "stdout",
     "output_type": "stream",
     "text": [
      "                                               filename     label\n",
      "0     15284a77b3979147794bb67ed52c6c308b6fb41ed8c813...  positive\n",
      "1     15284a77b3979147794bb67ed52c6c308b6fb41ed8c813...  positive\n",
      "2     064c9650db76c75f0d8cdc31898eb031aece3cd1e78255...  positive\n",
      "3     064c9650db76c75f0d8cdc31898eb031aece3cd1e78255...  positive\n",
      "4     064c9650db76c75f0d8cdc31898eb031aece3cd1e78255...  positive\n",
      "...                                                 ...       ...\n",
      "1666  bd210c67f8f6d1d3b34e1f724f26a0460a5e683af5c500...  negative\n",
      "1667  bd210c67f8f6d1d3b34e1f724f26a0460a5e683af5c500...  negative\n",
      "1668  6d88d862df110f113ce1fe29de6e61f87f40c942ca530a...  negative\n",
      "1669  6d88d862df110f113ce1fe29de6e61f87f40c942ca530a...  negative\n",
      "1670  f9b6f83a897ba44fd62aa9b81880f4472c1e88f457977e...  negative\n",
      "\n",
      "[1671 rows x 2 columns]\n"
     ]
    }
   ],
   "source": [
    "print(df)"
   ]
  },
  {
   "cell_type": "code",
   "execution_count": 9,
   "metadata": {},
   "outputs": [],
   "source": [
    "# 데이터 디렉토리 생성 (이미 존재한다면 생성하지 않음)\n",
    "os.makedirs('./data/train', exist_ok=True)\n",
    "os.makedirs('./data/val', exist_ok=True)\n",
    "os.makedirs('./data/test', exist_ok=True)"
   ]
  },
  {
   "cell_type": "code",
   "execution_count": 10,
   "metadata": {},
   "outputs": [],
   "source": [
    "labels = ['positive', 'negative', 'neutral']\n",
    "dfs_train_updated = []\n",
    "dfs_val_updated = []\n",
    "dfs_test_updated = []\n",
    "\n",
    "def remove_korean_and_spaces(original_filename):\n",
    "    # 한글과 공백을 제외한 문자만 남기고 모두 제거한 후 새 파일 이름 생성\n",
    "    new_filename = re.sub(r'[가-힣\\s]+', '', original_filename).strip()\n",
    "    return new_filename\n",
    "\n",
    "for label in labels:\n",
    "    df_label = df[df['label'] == label]\n",
    "    \n",
    "    # train, validation, test 분할 (8:1:1)\n",
    "    df_train, df_temp = train_test_split(df_label, test_size=0.2, random_state=42)\n",
    "    df_val, df_test = train_test_split(df_temp, test_size=0.5, random_state=42)\n",
    "\n",
    "    def move_files(df_subset, subset_name):\n",
    "        updated_rows = []\n",
    "        for _, row in df_subset.iterrows():\n",
    "            original_filename = row['filename']\n",
    "            new_filename = remove_korean_and_spaces(original_filename)  # 한글과 공백 제거된 새 파일 이름\n",
    "            \n",
    "            new_path = f'./data/{subset_name}/{new_filename}'\n",
    "            \n",
    "            original_path = os.path.join('./sample_data/preprocessed_images', original_filename)  # 파일이 원래 저장된 경로\n",
    "            \n",
    "            # 파일이 실제로 존재하는지 확인\n",
    "            if os.path.exists(original_path):\n",
    "                shutil.copy(original_path, new_path)  # 파일 복사\n",
    "                row['filename'] = new_filename  # 경로 대신 새 파일 이름 저장\n",
    "            else:\n",
    "                print(f\"파일을 찾을 수 없습니다: {original_path}, 건너뜁니다.\")\n",
    "                continue\n",
    "            \n",
    "            updated_rows.append(row)\n",
    "        return pd.DataFrame(updated_rows)\n",
    "    \n",
    "    dfs_train_updated.append(move_files(df_train, 'train'))\n",
    "    dfs_val_updated.append(move_files(df_val, 'val'))\n",
    "    dfs_test_updated.append(move_files(df_test, 'test'))\n",
    "\n",
    "df_train_all = pd.concat(dfs_train_updated).reset_index(drop=True)\n",
    "df_val_all = pd.concat(dfs_val_updated).reset_index(drop=True)\n",
    "df_test_all = pd.concat(dfs_test_updated).reset_index(drop=True)\n",
    "\n",
    "df_train_all.to_csv('./data/labels_train.csv', index=False)\n",
    "df_val_all.to_csv('./data/labels_val.csv', index=False)\n",
    "df_test_all.to_csv('./data/labels_test.csv', index=False)\n"
   ]
  },
  {
   "cell_type": "code",
   "execution_count": null,
   "metadata": {},
   "outputs": [],
   "source": []
  }
 ],
 "metadata": {
  "kernelspec": {
   "display_name": "FER",
   "language": "python",
   "name": "python3"
  },
  "language_info": {
   "codemirror_mode": {
    "name": "ipython",
    "version": 3
   },
   "file_extension": ".py",
   "mimetype": "text/x-python",
   "name": "python",
   "nbconvert_exporter": "python",
   "pygments_lexer": "ipython3",
   "version": "3.9.19"
  }
 },
 "nbformat": 4,
 "nbformat_minor": 2
}
